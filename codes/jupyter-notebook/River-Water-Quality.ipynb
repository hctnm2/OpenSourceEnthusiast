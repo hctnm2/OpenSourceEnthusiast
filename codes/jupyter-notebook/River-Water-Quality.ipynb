{
 "cells": [
  {
   "cell_type": "code",
   "execution_count": 1,
   "metadata": {},
   "outputs": [],
   "source": [
    "from pyspark.sql import SparkSession\n",
    "spark = SparkSession.builder.appName(\"SparkMLLib\").enableHiveSupport().getOrCreate()"
   ]
  },
  {
   "cell_type": "markdown",
   "metadata": {},
   "source": [
    "# Tạo Dataframe từ file csv"
   ]
  },
  {
   "cell_type": "code",
   "execution_count": 2,
   "metadata": {},
   "outputs": [],
   "source": [
    "data = spark.read.format(\"csv\")\\\n",
    ".option(\"header\", \"true\")\\\n",
    ".option(\"inferSchema\", \"true\")\\\n",
    ".load(\"Data-DLL.csv\")"
   ]
  },
  {
   "cell_type": "code",
   "execution_count": 3,
   "metadata": {},
   "outputs": [
    {
     "data": {
      "text/plain": [
       "DataFrame[RDA: string, DistrictID: int, District: string, Year: int, ReportType: string, Akm: double, Bkm: double, Ckm: double, Dkm: double, Ekm: double, Fkm: double, Totalkm: double, Apc: double, Bpc: double, Cpc: double, Dpc: double, Epc: double, Fpc: double, GOODpc: double, FAIRpc: double, POORpc: double, BADpc: double, Highpc: double]"
      ]
     },
     "execution_count": 3,
     "metadata": {},
     "output_type": "execute_result"
    }
   ],
   "source": [
    "data.cache()"
   ]
  },
  {
   "cell_type": "code",
   "execution_count": 4,
   "metadata": {},
   "outputs": [
    {
     "data": {
      "text/plain": [
       "15375"
      ]
     },
     "execution_count": 4,
     "metadata": {},
     "output_type": "execute_result"
    }
   ],
   "source": [
    "data.count()"
   ]
  },
  {
   "cell_type": "code",
   "execution_count": 5,
   "metadata": {},
   "outputs": [
    {
     "data": {
      "text/plain": [
       "23"
      ]
     },
     "execution_count": 5,
     "metadata": {},
     "output_type": "execute_result"
    }
   ],
   "source": [
    "len(data.columns)"
   ]
  },
  {
   "cell_type": "code",
   "execution_count": 6,
   "metadata": {},
   "outputs": [
    {
     "data": {
      "text/plain": [
       "DataFrame[RDA: string, DistrictID: int, District: string, Year: int, ReportType: string, Akm: double, Bkm: double, Ckm: double, Dkm: double, Ekm: double, Fkm: double, Totalkm: double, Apc: double, Bpc: double, Cpc: double, Dpc: double, Epc: double, Fpc: double, GOODpc: double, FAIRpc: double, POORpc: double, BADpc: double, Highpc: double]"
      ]
     },
     "metadata": {},
     "output_type": "display_data"
    }
   ],
   "source": [
    "display(data)"
   ]
  },
  {
   "cell_type": "markdown",
   "metadata": {},
   "source": [
    "# Hiển thị nội dung của Dataframe"
   ]
  },
  {
   "cell_type": "code",
   "execution_count": 7,
   "metadata": {},
   "outputs": [
    {
     "name": "stdout",
     "output_type": "stream",
     "text": [
      "+---------------+----------+--------+----+----------+----+----+----+----+-----+----+-------+----+----+----+----+----+----+------+------+------+-----+------+\n",
      "|            RDA|DistrictID|District|Year|ReportType| Akm| Bkm| Ckm| Dkm|  Ekm| Fkm|Totalkm| Apc| Bpc| Cpc| Dpc| Epc| Fpc|GOODpc|FAIRpc|POORpc|BADpc|Highpc|\n",
      "+---------------+----------+--------+----+----------+----+----+----+----+-----+----+-------+----+----+----+----+----+----+------+------+------+-----+------+\n",
      "|East of England|        41| Babergh|1990|   biology|26.8|54.0|31.6| 0.0|  0.0| 0.0|  112.5|23.8|48.0|28.1| 0.0| 0.0| 0.0|  71.9|  28.1|   0.0|  0.0|  null|\n",
      "|East of England|        41| Babergh|1990| chemistry| 0.0|15.9|95.1|34.0|  3.2| 0.0|  148.2| 0.0|10.7|64.2|22.9| 2.1| 0.0|  10.7|  87.1|   2.1|  0.0|  null|\n",
      "|East of England|        41| Babergh|1990|   nitrate| 0.0| 0.0| 5.7|65.6| 42.4|34.5|  148.2| 0.0| 0.0| 3.9|44.3|28.6|23.3|  null|  null|  null| null|  51.9|\n",
      "|East of England|        41| Babergh|1990| phosphate| 0.0| 0.0| 3.1|11.4| 96.2|37.4|  148.2| 0.0| 0.0| 2.1| 7.7|64.9|25.3|  null|  null|  null| null|  97.9|\n",
      "|East of England|        41| Babergh|1993| chemistry| 5.5|16.1|83.8|41.7|  1.2| 0.0|  148.2| 3.7|10.9|56.5|28.1| 0.8| 0.0|  14.6|  84.6|   0.8|  0.0|  null|\n",
      "|East of England|        41| Babergh|1994| chemistry| 5.5|53.0|83.6| 6.1|  0.0| 0.0|  148.2| 3.7|35.8|56.4| 4.1| 0.0| 0.0|  39.5|  60.5|   0.0|  0.0|  null|\n",
      "|East of England|        41| Babergh|1995|   biology|65.7|56.0|17.8| 5.0|  0.0| 0.0|  144.4|45.5|38.8|12.3| 3.4| 0.0| 0.0|  84.3|  15.7|   0.0|  0.0|  null|\n",
      "|East of England|        41| Babergh|1995| chemistry|10.6|58.1|61.0|11.0|  7.5| 0.0|  148.2| 7.2|39.2|41.1| 7.4| 5.1| 0.0|  46.4|  48.6|   5.1|  0.0|  null|\n",
      "|East of England|        41| Babergh|1995|   nitrate| 0.0| 0.0| 0.0|20.6| 71.7|55.9|  148.2| 0.0| 0.0| 0.0|13.9|48.4|37.7|  null|  null|  null| null|  86.1|\n",
      "|East of England|        41| Babergh|1995| phosphate| 0.0|15.9| 4.3|16.2|103.4| 8.4|  148.2| 0.0|10.8| 2.9|10.9|69.7| 5.7|  null|  null|  null| null|  86.3|\n",
      "|East of England|        41| Babergh|1996| chemistry| 5.8|33.9|61.8|39.1|  7.5| 0.0|  148.2| 3.9|22.9|41.7|26.4| 5.1| 0.0|  26.8|  68.1|   5.1|  0.0|  null|\n",
      "|East of England|        41| Babergh|1997| chemistry| 0.0|11.4|68.7|37.3| 30.8| 0.0|  148.2| 0.0| 7.7|46.3|25.2|20.8| 0.0|   7.7|  71.5|  20.8|  0.0|  null|\n",
      "|East of England|        41| Babergh|1998| chemistry| 5.8|13.2|82.4|16.4| 30.3| 0.0|  148.2| 3.9| 8.9|55.6|11.1|20.5| 0.0|  12.8|  66.7|  20.5|  0.0|  null|\n",
      "|East of England|        41| Babergh|1999| chemistry| 5.8|25.7|74.2|22.0| 20.5| 0.0|  148.2| 3.9|17.3|50.0|14.9|13.8| 0.0|  21.3|  64.9|  13.8|  0.0|  null|\n",
      "|East of England|        41| Babergh|2000|   biology|61.0|68.9|11.4| 0.0|  0.0| 0.0|  141.3|43.2|48.7| 8.1| 0.0| 0.0| 0.0|  91.9|   8.1|   0.0|  0.0|  null|\n",
      "|East of England|        41| Babergh|2000| chemistry|21.6|78.0|39.5| 0.0|  9.1| 0.0|  148.2|14.6|52.6|26.6| 0.0| 6.2| 0.0|  67.2|  26.6|   6.2|  0.0|  null|\n",
      "|East of England|        41| Babergh|2000|   nitrate| 0.0| 0.0| 0.0| 0.0| 82.9|65.3|  148.2| 0.0| 0.0| 0.0| 0.0|55.9|44.1|  null|  null|  null| null| 100.0|\n",
      "|East of England|        41| Babergh|2000| phosphate| 0.0| 5.6|10.6|15.1|107.1| 9.8|  148.2| 0.0| 3.8| 7.2|10.2|72.2| 6.6|  null|  null|  null| null|  89.1|\n",
      "|East of England|        41| Babergh|2001| chemistry|44.1|79.5|14.2|10.4|  0.0| 0.0|  148.2|29.7|53.6| 9.6| 7.0| 0.0| 0.0|  83.4|  16.6|   0.0|  0.0|  null|\n",
      "|East of England|        41| Babergh|2001|   nitrate| 0.0| 0.0| 0.0|13.0| 80.7|54.6|  148.2| 0.0| 0.0| 0.0| 8.8|54.4|36.8|  null|  null|  null| null|  91.2|\n",
      "+---------------+----------+--------+----+----------+----+----+----+----+-----+----+-------+----+----+----+----+----+----+------+------+------+-----+------+\n",
      "only showing top 20 rows\n",
      "\n"
     ]
    }
   ],
   "source": [
    "data.show()"
   ]
  },
  {
   "cell_type": "markdown",
   "metadata": {},
   "source": [
    "# In ra cấu trúc của Dataframe theo dạng cây"
   ]
  },
  {
   "cell_type": "code",
   "execution_count": 8,
   "metadata": {},
   "outputs": [
    {
     "name": "stdout",
     "output_type": "stream",
     "text": [
      "root\n",
      " |-- RDA: string (nullable = true)\n",
      " |-- DistrictID: integer (nullable = true)\n",
      " |-- District: string (nullable = true)\n",
      " |-- Year: integer (nullable = true)\n",
      " |-- ReportType: string (nullable = true)\n",
      " |-- Akm: double (nullable = true)\n",
      " |-- Bkm: double (nullable = true)\n",
      " |-- Ckm: double (nullable = true)\n",
      " |-- Dkm: double (nullable = true)\n",
      " |-- Ekm: double (nullable = true)\n",
      " |-- Fkm: double (nullable = true)\n",
      " |-- Totalkm: double (nullable = true)\n",
      " |-- Apc: double (nullable = true)\n",
      " |-- Bpc: double (nullable = true)\n",
      " |-- Cpc: double (nullable = true)\n",
      " |-- Dpc: double (nullable = true)\n",
      " |-- Epc: double (nullable = true)\n",
      " |-- Fpc: double (nullable = true)\n",
      " |-- GOODpc: double (nullable = true)\n",
      " |-- FAIRpc: double (nullable = true)\n",
      " |-- POORpc: double (nullable = true)\n",
      " |-- BADpc: double (nullable = true)\n",
      " |-- Highpc: double (nullable = true)\n",
      "\n"
     ]
    }
   ],
   "source": [
    "data.printSchema()"
   ]
  },
  {
   "cell_type": "code",
   "execution_count": 9,
   "metadata": {},
   "outputs": [
    {
     "data": {
      "text/plain": [
       "DataFrame[RDA: string, DistrictID: int, District: string, Year: int, ReportType: string, Akm: double, Bkm: double, Ckm: double, Dkm: double, Ekm: double, Fkm: double, Totalkm: double, Apc: double, Bpc: double, Cpc: double, Dpc: double, Epc: double, Fpc: double, GOODpc: double, FAIRpc: double, POORpc: double, BADpc: double, Highpc: double]"
      ]
     },
     "execution_count": 9,
     "metadata": {},
     "output_type": "execute_result"
    }
   ],
   "source": [
    "data"
   ]
  },
  {
   "cell_type": "markdown",
   "metadata": {},
   "source": [
    "# Đếm số data null của từng cột"
   ]
  },
  {
   "cell_type": "code",
   "execution_count": 10,
   "metadata": {},
   "outputs": [],
   "source": [
    "dataset=data.rdd.flatMap(lambda r: r.asDict().items())"
   ]
  },
  {
   "cell_type": "code",
   "execution_count": 11,
   "metadata": {},
   "outputs": [
    {
     "data": {
      "text/plain": [
       "[('Highpc', 8909),\n",
       " ('GOODpc', 6991),\n",
       " ('FAIRpc', 6991),\n",
       " ('POORpc', 6991),\n",
       " ('BADpc', 6991),\n",
       " ('Apc', 525),\n",
       " ('Bpc', 525),\n",
       " ('Cpc', 525),\n",
       " ('Dpc', 525),\n",
       " ('Epc', 525),\n",
       " ('Fpc', 525)]"
      ]
     },
     "execution_count": 11,
     "metadata": {},
     "output_type": "execute_result"
    }
   ],
   "source": [
    "dataset.filter(lambda kv: kv[1] is None).mapValues(lambda x: 1).reduceByKey(lambda x,y: x+y).collect()"
   ]
  },
  {
   "cell_type": "markdown",
   "metadata": {},
   "source": [
    "# Delete cột District"
   ]
  },
  {
   "cell_type": "code",
   "execution_count": 12,
   "metadata": {},
   "outputs": [],
   "source": [
    "columns_to_drop = [\"District\"]\n",
    "\n",
    "dataset = data.drop(*columns_to_drop)"
   ]
  },
  {
   "cell_type": "code",
   "execution_count": 13,
   "metadata": {},
   "outputs": [
    {
     "name": "stdout",
     "output_type": "stream",
     "text": [
      "root\n",
      " |-- RDA: string (nullable = true)\n",
      " |-- DistrictID: integer (nullable = true)\n",
      " |-- Year: integer (nullable = true)\n",
      " |-- ReportType: string (nullable = true)\n",
      " |-- Akm: double (nullable = true)\n",
      " |-- Bkm: double (nullable = true)\n",
      " |-- Ckm: double (nullable = true)\n",
      " |-- Dkm: double (nullable = true)\n",
      " |-- Ekm: double (nullable = true)\n",
      " |-- Fkm: double (nullable = true)\n",
      " |-- Totalkm: double (nullable = true)\n",
      " |-- Apc: double (nullable = true)\n",
      " |-- Bpc: double (nullable = true)\n",
      " |-- Cpc: double (nullable = true)\n",
      " |-- Dpc: double (nullable = true)\n",
      " |-- Epc: double (nullable = true)\n",
      " |-- Fpc: double (nullable = true)\n",
      " |-- GOODpc: double (nullable = true)\n",
      " |-- FAIRpc: double (nullable = true)\n",
      " |-- POORpc: double (nullable = true)\n",
      " |-- BADpc: double (nullable = true)\n",
      " |-- Highpc: double (nullable = true)\n",
      "\n"
     ]
    }
   ],
   "source": [
    "dataset.printSchema()"
   ]
  },
  {
   "cell_type": "markdown",
   "metadata": {},
   "source": [
    "# Delete dữ liệu null"
   ]
  },
  {
   "cell_type": "code",
   "execution_count": 14,
   "metadata": {},
   "outputs": [],
   "source": [
    "dataset1=dataset.dropna(thresh=12)"
   ]
  },
  {
   "cell_type": "code",
   "execution_count": 15,
   "metadata": {},
   "outputs": [
    {
     "data": {
      "text/plain": [
       "14850"
      ]
     },
     "execution_count": 15,
     "metadata": {},
     "output_type": "execute_result"
    }
   ],
   "source": [
    "dataset1.count()"
   ]
  },
  {
   "cell_type": "code",
   "execution_count": 16,
   "metadata": {},
   "outputs": [
    {
     "data": {
      "text/plain": [
       "22"
      ]
     },
     "execution_count": 16,
     "metadata": {},
     "output_type": "execute_result"
    }
   ],
   "source": [
    "len(dataset1.columns)"
   ]
  },
  {
   "cell_type": "markdown",
   "metadata": {},
   "source": [
    "Sau khi delete dữ liệu còn lại 14850 dòng và 22 cột"
   ]
  },
  {
   "cell_type": "code",
   "execution_count": 17,
   "metadata": {},
   "outputs": [],
   "source": [
    "columns_to_drop = [\"RDA\", \"DistrictID\", \"Year\", \"ReportType\", \"Akm\", \"Bkm\", \"Ckm\", \"Dkm\", \"Ekm\", \"Fkm\", \"Totalkm\", \"Apc\", \"Bpc\", \"Cpc\", \"Dpc\", \"Epc\", \"Fpc\" ]\n",
    "\n",
    "dataset2 = dataset1.drop(*columns_to_drop)"
   ]
  },
  {
   "cell_type": "code",
   "execution_count": 18,
   "metadata": {},
   "outputs": [
    {
     "name": "stdout",
     "output_type": "stream",
     "text": [
      "+------+------+------+-----+------+\n",
      "|GOODpc|FAIRpc|POORpc|BADpc|Highpc|\n",
      "+------+------+------+-----+------+\n",
      "|  71.9|  28.1|   0.0|  0.0|  null|\n",
      "|  10.7|  87.1|   2.1|  0.0|  null|\n",
      "|  null|  null|  null| null|  51.9|\n",
      "|  null|  null|  null| null|  97.9|\n",
      "|  14.6|  84.6|   0.8|  0.0|  null|\n",
      "|  39.5|  60.5|   0.0|  0.0|  null|\n",
      "|  84.3|  15.7|   0.0|  0.0|  null|\n",
      "|  46.4|  48.6|   5.1|  0.0|  null|\n",
      "|  null|  null|  null| null|  86.1|\n",
      "|  null|  null|  null| null|  86.3|\n",
      "|  26.8|  68.1|   5.1|  0.0|  null|\n",
      "|   7.7|  71.5|  20.8|  0.0|  null|\n",
      "|  12.8|  66.7|  20.5|  0.0|  null|\n",
      "|  21.3|  64.9|  13.8|  0.0|  null|\n",
      "|  91.9|   8.1|   0.0|  0.0|  null|\n",
      "|  67.2|  26.6|   6.2|  0.0|  null|\n",
      "|  null|  null|  null| null| 100.0|\n",
      "|  null|  null|  null| null|  89.1|\n",
      "|  83.4|  16.6|   0.0|  0.0|  null|\n",
      "|  null|  null|  null| null|  91.2|\n",
      "+------+------+------+-----+------+\n",
      "only showing top 20 rows\n",
      "\n"
     ]
    }
   ],
   "source": [
    "dataset2.show()"
   ]
  },
  {
   "cell_type": "markdown",
   "metadata": {},
   "source": [
    "Tính trung bình cho những dữ liệu bị thiếu"
   ]
  },
  {
   "cell_type": "code",
   "execution_count": 19,
   "metadata": {},
   "outputs": [],
   "source": [
    "mean_dict = { col: 'mean' for col in dataset2.columns }\n",
    "col_avgs = dataset1.agg( mean_dict ).collect()[0].asDict()\n",
    "col_avgs = { k[4:-1]: v for k,v in col_avgs.items() }\n",
    "data1=dataset1.fillna( col_avgs )"
   ]
  },
  {
   "cell_type": "code",
   "execution_count": 20,
   "metadata": {},
   "outputs": [
    {
     "name": "stdout",
     "output_type": "stream",
     "text": [
      "+---------------+----------+----+----------+----+----+----+----+-----+----+-------+----+----+----+----+----+----+-----------------+-----------------+-----------------+------------------+------------------+\n",
      "|            RDA|DistrictID|Year|ReportType| Akm| Bkm| Ckm| Dkm|  Ekm| Fkm|Totalkm| Apc| Bpc| Cpc| Dpc| Epc| Fpc|           GOODpc|           FAIRpc|           POORpc|             BADpc|            Highpc|\n",
      "+---------------+----------+----+----------+----+----+----+----+-----+----+-------+----+----+----+----+----+----+-----------------+-----------------+-----------------+------------------+------------------+\n",
      "|East of England|        41|1990|   biology|26.8|54.0|31.6| 0.0|  0.0| 0.0|  112.5|23.8|48.0|28.1| 0.0| 0.0| 0.0|             71.9|             28.1|              0.0|               0.0|50.631819262621775|\n",
      "|East of England|        41|1990| chemistry| 0.0|15.9|95.1|34.0|  3.2| 0.0|  148.2| 0.0|10.7|64.2|22.9| 2.1| 0.0|             10.7|             87.1|              2.1|               0.0|50.631819262621775|\n",
      "|East of England|        41|1990|   nitrate| 0.0| 0.0| 5.7|65.6| 42.4|34.5|  148.2| 0.0| 0.0| 3.9|44.3|28.6|23.3|48.31625414675479|38.60565822752306|11.33352319310248|1.7448268372241176|              51.9|\n",
      "|East of England|        41|1990| phosphate| 0.0| 0.0| 3.1|11.4| 96.2|37.4|  148.2| 0.0| 0.0| 2.1| 7.7|64.9|25.3|48.31625414675479|38.60565822752306|11.33352319310248|1.7448268372241176|              97.9|\n",
      "|East of England|        41|1993| chemistry| 5.5|16.1|83.8|41.7|  1.2| 0.0|  148.2| 3.7|10.9|56.5|28.1| 0.8| 0.0|             14.6|             84.6|              0.8|               0.0|50.631819262621775|\n",
      "|East of England|        41|1994| chemistry| 5.5|53.0|83.6| 6.1|  0.0| 0.0|  148.2| 3.7|35.8|56.4| 4.1| 0.0| 0.0|             39.5|             60.5|              0.0|               0.0|50.631819262621775|\n",
      "|East of England|        41|1995|   biology|65.7|56.0|17.8| 5.0|  0.0| 0.0|  144.4|45.5|38.8|12.3| 3.4| 0.0| 0.0|             84.3|             15.7|              0.0|               0.0|50.631819262621775|\n",
      "|East of England|        41|1995| chemistry|10.6|58.1|61.0|11.0|  7.5| 0.0|  148.2| 7.2|39.2|41.1| 7.4| 5.1| 0.0|             46.4|             48.6|              5.1|               0.0|50.631819262621775|\n",
      "|East of England|        41|1995|   nitrate| 0.0| 0.0| 0.0|20.6| 71.7|55.9|  148.2| 0.0| 0.0| 0.0|13.9|48.4|37.7|48.31625414675479|38.60565822752306|11.33352319310248|1.7448268372241176|              86.1|\n",
      "|East of England|        41|1995| phosphate| 0.0|15.9| 4.3|16.2|103.4| 8.4|  148.2| 0.0|10.8| 2.9|10.9|69.7| 5.7|48.31625414675479|38.60565822752306|11.33352319310248|1.7448268372241176|              86.3|\n",
      "|East of England|        41|1996| chemistry| 5.8|33.9|61.8|39.1|  7.5| 0.0|  148.2| 3.9|22.9|41.7|26.4| 5.1| 0.0|             26.8|             68.1|              5.1|               0.0|50.631819262621775|\n",
      "|East of England|        41|1997| chemistry| 0.0|11.4|68.7|37.3| 30.8| 0.0|  148.2| 0.0| 7.7|46.3|25.2|20.8| 0.0|              7.7|             71.5|             20.8|               0.0|50.631819262621775|\n",
      "|East of England|        41|1998| chemistry| 5.8|13.2|82.4|16.4| 30.3| 0.0|  148.2| 3.9| 8.9|55.6|11.1|20.5| 0.0|             12.8|             66.7|             20.5|               0.0|50.631819262621775|\n",
      "|East of England|        41|1999| chemistry| 5.8|25.7|74.2|22.0| 20.5| 0.0|  148.2| 3.9|17.3|50.0|14.9|13.8| 0.0|             21.3|             64.9|             13.8|               0.0|50.631819262621775|\n",
      "|East of England|        41|2000|   biology|61.0|68.9|11.4| 0.0|  0.0| 0.0|  141.3|43.2|48.7| 8.1| 0.0| 0.0| 0.0|             91.9|              8.1|              0.0|               0.0|50.631819262621775|\n",
      "|East of England|        41|2000| chemistry|21.6|78.0|39.5| 0.0|  9.1| 0.0|  148.2|14.6|52.6|26.6| 0.0| 6.2| 0.0|             67.2|             26.6|              6.2|               0.0|50.631819262621775|\n",
      "|East of England|        41|2000|   nitrate| 0.0| 0.0| 0.0| 0.0| 82.9|65.3|  148.2| 0.0| 0.0| 0.0| 0.0|55.9|44.1|48.31625414675479|38.60565822752306|11.33352319310248|1.7448268372241176|             100.0|\n",
      "|East of England|        41|2000| phosphate| 0.0| 5.6|10.6|15.1|107.1| 9.8|  148.2| 0.0| 3.8| 7.2|10.2|72.2| 6.6|48.31625414675479|38.60565822752306|11.33352319310248|1.7448268372241176|              89.1|\n",
      "|East of England|        41|2001| chemistry|44.1|79.5|14.2|10.4|  0.0| 0.0|  148.2|29.7|53.6| 9.6| 7.0| 0.0| 0.0|             83.4|             16.6|              0.0|               0.0|50.631819262621775|\n",
      "|East of England|        41|2001|   nitrate| 0.0| 0.0| 0.0|13.0| 80.7|54.6|  148.2| 0.0| 0.0| 0.0| 8.8|54.4|36.8|48.31625414675479|38.60565822752306|11.33352319310248|1.7448268372241176|              91.2|\n",
      "+---------------+----------+----+----------+----+----+----+----+-----+----+-------+----+----+----+----+----+----+-----------------+-----------------+-----------------+------------------+------------------+\n",
      "only showing top 20 rows\n",
      "\n"
     ]
    }
   ],
   "source": [
    "data1.show()"
   ]
  },
  {
   "cell_type": "code",
   "execution_count": 21,
   "metadata": {},
   "outputs": [],
   "source": [
    "from pyspark.sql import Row"
   ]
  },
  {
   "cell_type": "markdown",
   "metadata": {},
   "source": [
    "# Đếm số lượng của từng loại đánh giá"
   ]
  },
  {
   "cell_type": "code",
   "execution_count": 22,
   "metadata": {},
   "outputs": [],
   "source": [
    "def df_value_counts(df, col):\n",
    "    return df.rdd.map(lambda row: (row[col], 1)).reduceByKey(lambda x,y: x+y).sortBy(lambda x: -x[1]).collect()"
   ]
  },
  {
   "cell_type": "code",
   "execution_count": 23,
   "metadata": {},
   "outputs": [
    {
     "data": {
      "text/plain": [
       "[('chemistry', 5485),\n",
       " ('phosphate', 3274),\n",
       " ('nitrate', 3192),\n",
       " ('biology', 2899)]"
      ]
     },
     "execution_count": 23,
     "metadata": {},
     "output_type": "execute_result"
    }
   ],
   "source": [
    "df_value_counts(data1, 'ReportType')"
   ]
  },
  {
   "cell_type": "markdown",
   "metadata": {},
   "source": [
    "# Định nghĩa giá trị loại đánh giá"
   ]
  },
  {
   "cell_type": "code",
   "execution_count": 24,
   "metadata": {},
   "outputs": [],
   "source": [
    "def replace_row(row, repdict):\n",
    "    d = row.asDict()\n",
    "    for k, torep in repdict.items():\n",
    "        if k in d:\n",
    "            d[k] = torep[d[k]]\n",
    "    return Row(**d)\n",
    "\n",
    "def df_replace(df, repdict):\n",
    "    return df.rdd.map(lambda r: replace_row(r, repdict))"
   ]
  },
  {
   "cell_type": "code",
   "execution_count": 25,
   "metadata": {},
   "outputs": [],
   "source": [
    "data1 = df_replace(data1, { 'ReportType': {'chemistry':3,'nitrate':2,'phosphate':1,'biology':0}})"
   ]
  },
  {
   "cell_type": "code",
   "execution_count": 26,
   "metadata": {},
   "outputs": [],
   "source": [
    "data1 = data1.toDF()"
   ]
  },
  {
   "cell_type": "markdown",
   "metadata": {},
   "source": [
    "# Dữ liệu cuối cùng sau khi tiền xử lý"
   ]
  },
  {
   "cell_type": "code",
   "execution_count": 27,
   "metadata": {},
   "outputs": [
    {
     "name": "stdout",
     "output_type": "stream",
     "text": [
      "+----+----+------------------+----+----+----+----+----------+----+----+-----+----+-----------------+----+----+-----------------+------------------+-----------------+---------------+----------+-------+----+\n",
      "| Akm| Apc|             BADpc| Bkm| Bpc| Ckm| Cpc|DistrictID| Dkm| Dpc|  Ekm| Epc|           FAIRpc| Fkm| Fpc|           GOODpc|            Highpc|           POORpc|            RDA|ReportType|Totalkm|Year|\n",
      "+----+----+------------------+----+----+----+----+----------+----+----+-----+----+-----------------+----+----+-----------------+------------------+-----------------+---------------+----------+-------+----+\n",
      "|26.8|23.8|               0.0|54.0|48.0|31.6|28.1|        41| 0.0| 0.0|  0.0| 0.0|             28.1| 0.0| 0.0|             71.9|50.631819262621775|              0.0|East of England|         0|  112.5|1990|\n",
      "| 0.0| 0.0|               0.0|15.9|10.7|95.1|64.2|        41|34.0|22.9|  3.2| 2.1|             87.1| 0.0| 0.0|             10.7|50.631819262621775|              2.1|East of England|         3|  148.2|1990|\n",
      "| 0.0| 0.0|1.7448268372241176| 0.0| 0.0| 5.7| 3.9|        41|65.6|44.3| 42.4|28.6|38.60565822752306|34.5|23.3|48.31625414675479|              51.9|11.33352319310248|East of England|         2|  148.2|1990|\n",
      "| 0.0| 0.0|1.7448268372241176| 0.0| 0.0| 3.1| 2.1|        41|11.4| 7.7| 96.2|64.9|38.60565822752306|37.4|25.3|48.31625414675479|              97.9|11.33352319310248|East of England|         1|  148.2|1990|\n",
      "| 5.5| 3.7|               0.0|16.1|10.9|83.8|56.5|        41|41.7|28.1|  1.2| 0.8|             84.6| 0.0| 0.0|             14.6|50.631819262621775|              0.8|East of England|         3|  148.2|1993|\n",
      "| 5.5| 3.7|               0.0|53.0|35.8|83.6|56.4|        41| 6.1| 4.1|  0.0| 0.0|             60.5| 0.0| 0.0|             39.5|50.631819262621775|              0.0|East of England|         3|  148.2|1994|\n",
      "|65.7|45.5|               0.0|56.0|38.8|17.8|12.3|        41| 5.0| 3.4|  0.0| 0.0|             15.7| 0.0| 0.0|             84.3|50.631819262621775|              0.0|East of England|         0|  144.4|1995|\n",
      "|10.6| 7.2|               0.0|58.1|39.2|61.0|41.1|        41|11.0| 7.4|  7.5| 5.1|             48.6| 0.0| 0.0|             46.4|50.631819262621775|              5.1|East of England|         3|  148.2|1995|\n",
      "| 0.0| 0.0|1.7448268372241176| 0.0| 0.0| 0.0| 0.0|        41|20.6|13.9| 71.7|48.4|38.60565822752306|55.9|37.7|48.31625414675479|              86.1|11.33352319310248|East of England|         2|  148.2|1995|\n",
      "| 0.0| 0.0|1.7448268372241176|15.9|10.8| 4.3| 2.9|        41|16.2|10.9|103.4|69.7|38.60565822752306| 8.4| 5.7|48.31625414675479|              86.3|11.33352319310248|East of England|         1|  148.2|1995|\n",
      "| 5.8| 3.9|               0.0|33.9|22.9|61.8|41.7|        41|39.1|26.4|  7.5| 5.1|             68.1| 0.0| 0.0|             26.8|50.631819262621775|              5.1|East of England|         3|  148.2|1996|\n",
      "| 0.0| 0.0|               0.0|11.4| 7.7|68.7|46.3|        41|37.3|25.2| 30.8|20.8|             71.5| 0.0| 0.0|              7.7|50.631819262621775|             20.8|East of England|         3|  148.2|1997|\n",
      "| 5.8| 3.9|               0.0|13.2| 8.9|82.4|55.6|        41|16.4|11.1| 30.3|20.5|             66.7| 0.0| 0.0|             12.8|50.631819262621775|             20.5|East of England|         3|  148.2|1998|\n",
      "| 5.8| 3.9|               0.0|25.7|17.3|74.2|50.0|        41|22.0|14.9| 20.5|13.8|             64.9| 0.0| 0.0|             21.3|50.631819262621775|             13.8|East of England|         3|  148.2|1999|\n",
      "|61.0|43.2|               0.0|68.9|48.7|11.4| 8.1|        41| 0.0| 0.0|  0.0| 0.0|              8.1| 0.0| 0.0|             91.9|50.631819262621775|              0.0|East of England|         0|  141.3|2000|\n",
      "|21.6|14.6|               0.0|78.0|52.6|39.5|26.6|        41| 0.0| 0.0|  9.1| 6.2|             26.6| 0.0| 0.0|             67.2|50.631819262621775|              6.2|East of England|         3|  148.2|2000|\n",
      "| 0.0| 0.0|1.7448268372241176| 0.0| 0.0| 0.0| 0.0|        41| 0.0| 0.0| 82.9|55.9|38.60565822752306|65.3|44.1|48.31625414675479|             100.0|11.33352319310248|East of England|         2|  148.2|2000|\n",
      "| 0.0| 0.0|1.7448268372241176| 5.6| 3.8|10.6| 7.2|        41|15.1|10.2|107.1|72.2|38.60565822752306| 9.8| 6.6|48.31625414675479|              89.1|11.33352319310248|East of England|         1|  148.2|2000|\n",
      "|44.1|29.7|               0.0|79.5|53.6|14.2| 9.6|        41|10.4| 7.0|  0.0| 0.0|             16.6| 0.0| 0.0|             83.4|50.631819262621775|              0.0|East of England|         3|  148.2|2001|\n",
      "| 0.0| 0.0|1.7448268372241176| 0.0| 0.0| 0.0| 0.0|        41|13.0| 8.8| 80.7|54.4|38.60565822752306|54.6|36.8|48.31625414675479|              91.2|11.33352319310248|East of England|         2|  148.2|2001|\n",
      "+----+----+------------------+----+----+----+----+----------+----+----+-----+----+-----------------+----+----+-----------------+------------------+-----------------+---------------+----------+-------+----+\n",
      "only showing top 20 rows\n",
      "\n"
     ]
    }
   ],
   "source": [
    "data1.show()"
   ]
  },
  {
   "cell_type": "code",
   "execution_count": 28,
   "metadata": {},
   "outputs": [
    {
     "name": "stdout",
     "output_type": "stream",
     "text": [
      "root\n",
      " |-- Akm: double (nullable = true)\n",
      " |-- Apc: double (nullable = true)\n",
      " |-- BADpc: double (nullable = true)\n",
      " |-- Bkm: double (nullable = true)\n",
      " |-- Bpc: double (nullable = true)\n",
      " |-- Ckm: double (nullable = true)\n",
      " |-- Cpc: double (nullable = true)\n",
      " |-- DistrictID: long (nullable = true)\n",
      " |-- Dkm: double (nullable = true)\n",
      " |-- Dpc: double (nullable = true)\n",
      " |-- Ekm: double (nullable = true)\n",
      " |-- Epc: double (nullable = true)\n",
      " |-- FAIRpc: double (nullable = true)\n",
      " |-- Fkm: double (nullable = true)\n",
      " |-- Fpc: double (nullable = true)\n",
      " |-- GOODpc: double (nullable = true)\n",
      " |-- Highpc: double (nullable = true)\n",
      " |-- POORpc: double (nullable = true)\n",
      " |-- RDA: string (nullable = true)\n",
      " |-- ReportType: long (nullable = true)\n",
      " |-- Totalkm: double (nullable = true)\n",
      " |-- Year: long (nullable = true)\n",
      "\n"
     ]
    }
   ],
   "source": [
    "data1.printSchema()"
   ]
  },
  {
   "cell_type": "code",
   "execution_count": 29,
   "metadata": {},
   "outputs": [
    {
     "data": {
      "text/plain": [
       "22"
      ]
     },
     "execution_count": 29,
     "metadata": {},
     "output_type": "execute_result"
    }
   ],
   "source": [
    "len(data1.columns)"
   ]
  },
  {
   "cell_type": "code",
   "execution_count": 30,
   "metadata": {},
   "outputs": [
    {
     "data": {
      "text/plain": [
       "14850"
      ]
     },
     "execution_count": 30,
     "metadata": {},
     "output_type": "execute_result"
    }
   ],
   "source": [
    "data1.count()"
   ]
  },
  {
   "cell_type": "code",
   "execution_count": 31,
   "metadata": {},
   "outputs": [],
   "source": [
    "#data1.write.csv('tienxuly.csv')"
   ]
  },
  {
   "cell_type": "code",
   "execution_count": 32,
   "metadata": {},
   "outputs": [],
   "source": [
    "from pyspark.ml.linalg import Vectors\n",
    "from pyspark.ml.feature import VectorAssembler\n",
    "#Dùng để đưa danh sách các cột vào thành một vector"
   ]
  },
  {
   "cell_type": "code",
   "execution_count": 33,
   "metadata": {},
   "outputs": [
    {
     "name": "stdout",
     "output_type": "stream",
     "text": [
      "+----+----+------------------+----+----+----+----+----------+----+----+-----+----+-----------------+----+----+-----------------+------------------+-----------------+---------------+----------+-------+----+--------------------+\n",
      "| Akm| Apc|             BADpc| Bkm| Bpc| Ckm| Cpc|DistrictID| Dkm| Dpc|  Ekm| Epc|           FAIRpc| Fkm| Fpc|           GOODpc|            Highpc|           POORpc|            RDA|ReportType|Totalkm|Year|            features|\n",
      "+----+----+------------------+----+----+----+----+----------+----+----+-----+----+-----------------+----+----+-----------------+------------------+-----------------+---------------+----------+-------+----+--------------------+\n",
      "|26.8|23.8|               0.0|54.0|48.0|31.6|28.1|        41| 0.0| 0.0|  0.0| 0.0|             28.1| 0.0| 0.0|             71.9|50.631819262621775|              0.0|East of England|         0|  112.5|1990|[112.5,71.9,28.1,...|\n",
      "| 0.0| 0.0|               0.0|15.9|10.7|95.1|64.2|        41|34.0|22.9|  3.2| 2.1|             87.1| 0.0| 0.0|             10.7|50.631819262621775|              2.1|East of England|         3|  148.2|1990|[148.2,10.7,87.1,...|\n",
      "| 0.0| 0.0|1.7448268372241176| 0.0| 0.0| 5.7| 3.9|        41|65.6|44.3| 42.4|28.6|38.60565822752306|34.5|23.3|48.31625414675479|              51.9|11.33352319310248|East of England|         2|  148.2|1990|[148.2,48.3162541...|\n",
      "| 0.0| 0.0|1.7448268372241176| 0.0| 0.0| 3.1| 2.1|        41|11.4| 7.7| 96.2|64.9|38.60565822752306|37.4|25.3|48.31625414675479|              97.9|11.33352319310248|East of England|         1|  148.2|1990|[148.2,48.3162541...|\n",
      "| 5.5| 3.7|               0.0|16.1|10.9|83.8|56.5|        41|41.7|28.1|  1.2| 0.8|             84.6| 0.0| 0.0|             14.6|50.631819262621775|              0.8|East of England|         3|  148.2|1993|[148.2,14.6,84.6,...|\n",
      "| 5.5| 3.7|               0.0|53.0|35.8|83.6|56.4|        41| 6.1| 4.1|  0.0| 0.0|             60.5| 0.0| 0.0|             39.5|50.631819262621775|              0.0|East of England|         3|  148.2|1994|[148.2,39.5,60.5,...|\n",
      "|65.7|45.5|               0.0|56.0|38.8|17.8|12.3|        41| 5.0| 3.4|  0.0| 0.0|             15.7| 0.0| 0.0|             84.3|50.631819262621775|              0.0|East of England|         0|  144.4|1995|[144.4,84.3,15.7,...|\n",
      "|10.6| 7.2|               0.0|58.1|39.2|61.0|41.1|        41|11.0| 7.4|  7.5| 5.1|             48.6| 0.0| 0.0|             46.4|50.631819262621775|              5.1|East of England|         3|  148.2|1995|[148.2,46.4,48.6,...|\n",
      "| 0.0| 0.0|1.7448268372241176| 0.0| 0.0| 0.0| 0.0|        41|20.6|13.9| 71.7|48.4|38.60565822752306|55.9|37.7|48.31625414675479|              86.1|11.33352319310248|East of England|         2|  148.2|1995|[148.2,48.3162541...|\n",
      "| 0.0| 0.0|1.7448268372241176|15.9|10.8| 4.3| 2.9|        41|16.2|10.9|103.4|69.7|38.60565822752306| 8.4| 5.7|48.31625414675479|              86.3|11.33352319310248|East of England|         1|  148.2|1995|[148.2,48.3162541...|\n",
      "| 5.8| 3.9|               0.0|33.9|22.9|61.8|41.7|        41|39.1|26.4|  7.5| 5.1|             68.1| 0.0| 0.0|             26.8|50.631819262621775|              5.1|East of England|         3|  148.2|1996|[148.2,26.8,68.1,...|\n",
      "| 0.0| 0.0|               0.0|11.4| 7.7|68.7|46.3|        41|37.3|25.2| 30.8|20.8|             71.5| 0.0| 0.0|              7.7|50.631819262621775|             20.8|East of England|         3|  148.2|1997|[148.2,7.7,71.5,2...|\n",
      "| 5.8| 3.9|               0.0|13.2| 8.9|82.4|55.6|        41|16.4|11.1| 30.3|20.5|             66.7| 0.0| 0.0|             12.8|50.631819262621775|             20.5|East of England|         3|  148.2|1998|[148.2,12.8,66.7,...|\n",
      "| 5.8| 3.9|               0.0|25.7|17.3|74.2|50.0|        41|22.0|14.9| 20.5|13.8|             64.9| 0.0| 0.0|             21.3|50.631819262621775|             13.8|East of England|         3|  148.2|1999|[148.2,21.3,64.9,...|\n",
      "|61.0|43.2|               0.0|68.9|48.7|11.4| 8.1|        41| 0.0| 0.0|  0.0| 0.0|              8.1| 0.0| 0.0|             91.9|50.631819262621775|              0.0|East of England|         0|  141.3|2000|[141.3,91.9,8.1,0...|\n",
      "|21.6|14.6|               0.0|78.0|52.6|39.5|26.6|        41| 0.0| 0.0|  9.1| 6.2|             26.6| 0.0| 0.0|             67.2|50.631819262621775|              6.2|East of England|         3|  148.2|2000|[148.2,67.2,26.6,...|\n",
      "| 0.0| 0.0|1.7448268372241176| 0.0| 0.0| 0.0| 0.0|        41| 0.0| 0.0| 82.9|55.9|38.60565822752306|65.3|44.1|48.31625414675479|             100.0|11.33352319310248|East of England|         2|  148.2|2000|[148.2,48.3162541...|\n",
      "| 0.0| 0.0|1.7448268372241176| 5.6| 3.8|10.6| 7.2|        41|15.1|10.2|107.1|72.2|38.60565822752306| 9.8| 6.6|48.31625414675479|              89.1|11.33352319310248|East of England|         1|  148.2|2000|[148.2,48.3162541...|\n",
      "|44.1|29.7|               0.0|79.5|53.6|14.2| 9.6|        41|10.4| 7.0|  0.0| 0.0|             16.6| 0.0| 0.0|             83.4|50.631819262621775|              0.0|East of England|         3|  148.2|2001|[148.2,83.4,16.6,...|\n",
      "| 0.0| 0.0|1.7448268372241176| 0.0| 0.0| 0.0| 0.0|        41|13.0| 8.8| 80.7|54.4|38.60565822752306|54.6|36.8|48.31625414675479|              91.2|11.33352319310248|East of England|         2|  148.2|2001|[148.2,48.3162541...|\n",
      "+----+----+------------------+----+----+----+----+----------+----+----+-----+----+-----------------+----+----+-----------------+------------------+-----------------+---------------+----------+-------+----+--------------------+\n",
      "only showing top 20 rows\n",
      "\n"
     ]
    }
   ],
   "source": [
    "vector_assembler = VectorAssembler(\\\n",
    "inputCols=[\"Totalkm\", \"GOODpc\", \"FAIRpc\", \"POORpc\", \"BADpc\", \"Highpc\"],\\\n",
    "outputCol=\"features\")\n",
    "df_temp = vector_assembler.transform(data1)\n",
    "df_temp.show()"
   ]
  },
  {
   "cell_type": "code",
   "execution_count": 34,
   "metadata": {},
   "outputs": [
    {
     "name": "stdout",
     "output_type": "stream",
     "text": [
      "+--------------------+-----+\n",
      "|            features|label|\n",
      "+--------------------+-----+\n",
      "|[112.5,71.9,28.1,...|    0|\n",
      "|[148.2,10.7,87.1,...|    3|\n",
      "|[148.2,48.3162541...|    2|\n",
      "|[148.2,48.3162541...|    1|\n",
      "|[148.2,14.6,84.6,...|    3|\n",
      "|[148.2,39.5,60.5,...|    3|\n",
      "|[144.4,84.3,15.7,...|    0|\n",
      "|[148.2,46.4,48.6,...|    3|\n",
      "|[148.2,48.3162541...|    2|\n",
      "|[148.2,48.3162541...|    1|\n",
      "|[148.2,26.8,68.1,...|    3|\n",
      "|[148.2,7.7,71.5,2...|    3|\n",
      "|[148.2,12.8,66.7,...|    3|\n",
      "|[148.2,21.3,64.9,...|    3|\n",
      "|[141.3,91.9,8.1,0...|    0|\n",
      "|[148.2,67.2,26.6,...|    3|\n",
      "|[148.2,48.3162541...|    2|\n",
      "|[148.2,48.3162541...|    1|\n",
      "|[148.2,83.4,16.6,...|    3|\n",
      "|[148.2,48.3162541...|    2|\n",
      "+--------------------+-----+\n",
      "only showing top 20 rows\n",
      "\n"
     ]
    }
   ],
   "source": [
    "from pyspark.sql.functions import col\n",
    "data1=df_temp.select(\"features\", col(\"ReportType\").alias(\"label\"))\n",
    "data1.show()"
   ]
  },
  {
   "cell_type": "markdown",
   "metadata": {},
   "source": [
    "# Chia dữ liệu thành 70% cho tập train và 30% cho tập set"
   ]
  },
  {
   "cell_type": "code",
   "execution_count": 35,
   "metadata": {},
   "outputs": [],
   "source": [
    "(trainingData, testData) = data1.randomSplit([0.7, 0.3])"
   ]
  },
  {
   "cell_type": "code",
   "execution_count": 36,
   "metadata": {},
   "outputs": [],
   "source": [
    "from pyspark.ml.classification import DecisionTreeClassifier\n",
    "#Dùng để tính toán và xây dựng cây quyết định\n",
    "from pyspark.ml.evaluation import MulticlassClassificationEvaluator\n",
    "#Dùng để đánh giá kết quả dự đoán của thuật toán"
   ]
  },
  {
   "cell_type": "code",
   "execution_count": 37,
   "metadata": {},
   "outputs": [],
   "source": [
    "#Huấn luyện mô hình\n",
    "dt = DecisionTreeClassifier(labelCol=\"label\", featuresCol=\"features\")\n",
    "model = dt.fit(trainingData)"
   ]
  },
  {
   "cell_type": "code",
   "execution_count": 38,
   "metadata": {},
   "outputs": [],
   "source": [
    "#Dự đoán mô hình với tập test\n",
    "predictions = model.transform(testData)"
   ]
  },
  {
   "cell_type": "code",
   "execution_count": 39,
   "metadata": {},
   "outputs": [
    {
     "name": "stdout",
     "output_type": "stream",
     "text": [
      "+----------+-----+\n",
      "|prediction|label|\n",
      "+----------+-----+\n",
      "|       2.0|    2|\n",
      "|       3.0|    3|\n",
      "|       3.0|    3|\n",
      "|       3.0|    3|\n",
      "|       3.0|    3|\n",
      "|       1.0|    1|\n",
      "|       1.0|    1|\n",
      "|       1.0|    1|\n",
      "|       1.0|    1|\n",
      "|       1.0|    2|\n",
      "|       3.0|    0|\n",
      "|       3.0|    0|\n",
      "|       3.0|    3|\n",
      "|       3.0|    0|\n",
      "|       3.0|    0|\n",
      "|       0.0|    3|\n",
      "|       3.0|    0|\n",
      "|       3.0|    3|\n",
      "|       3.0|    3|\n",
      "|       3.0|    3|\n",
      "+----------+-----+\n",
      "only showing top 20 rows\n",
      "\n"
     ]
    }
   ],
   "source": [
    "predictions.select(\"prediction\", \"label\").show()"
   ]
  },
  {
   "cell_type": "code",
   "execution_count": 40,
   "metadata": {},
   "outputs": [],
   "source": [
    "evaluator = MulticlassClassificationEvaluator(\n",
    "    labelCol=\"label\", predictionCol=\"prediction\", metricName=\"accuracy\")\n",
    "accuracy = evaluator.evaluate(predictions)"
   ]
  },
  {
   "cell_type": "markdown",
   "metadata": {},
   "source": [
    "Mô hình dự đoán kết quả của tập test với độ chính xác xấp xỉ = 68%"
   ]
  },
  {
   "cell_type": "code",
   "execution_count": 41,
   "metadata": {},
   "outputs": [
    {
     "data": {
      "text/plain": [
       "0.6829938200961319"
      ]
     },
     "execution_count": 41,
     "metadata": {},
     "output_type": "execute_result"
    }
   ],
   "source": [
    "accuracy"
   ]
  },
  {
   "cell_type": "code",
   "execution_count": 42,
   "metadata": {},
   "outputs": [],
   "source": [
    "evaluator = MulticlassClassificationEvaluator(\n",
    "    labelCol=\"label\", predictionCol=\"prediction\", metricName=\"f1\")\n",
    "f1 = evaluator.evaluate(predictions)"
   ]
  },
  {
   "cell_type": "markdown",
   "metadata": {},
   "source": [
    "Ta có chỉ số đánh giá f1-score(harmonic mean) xấp xỉ 61%"
   ]
  },
  {
   "cell_type": "code",
   "execution_count": 43,
   "metadata": {},
   "outputs": [
    {
     "data": {
      "text/plain": [
       "0.6090440216476881"
      ]
     },
     "execution_count": 43,
     "metadata": {},
     "output_type": "execute_result"
    }
   ],
   "source": [
    "f1"
   ]
  },
  {
   "cell_type": "code",
   "execution_count": 44,
   "metadata": {},
   "outputs": [
    {
     "name": "stdout",
     "output_type": "stream",
     "text": [
      "DecisionTreeClassificationModel (uid=DecisionTreeClassifier_318abe40583d) of depth 5 with 39 nodes\n"
     ]
    }
   ],
   "source": [
    "print(model)"
   ]
  },
  {
   "cell_type": "code",
   "execution_count": 45,
   "metadata": {},
   "outputs": [
    {
     "name": "stdout",
     "output_type": "stream",
     "text": [
      "DecisionTreeClassificationModel (uid=DecisionTreeClassifier_318abe40583d) of depth 5 with 39 nodes\n",
      "  If (feature 4 <= 1.7334023606120588)\n",
      "   If (feature 3 <= 1.9197625774999998)\n",
      "    If (feature 4 <= 0.101533381)\n",
      "     If (feature 3 <= 0.19523883)\n",
      "      If (feature 3 <= 0.1259458845)\n",
      "       Predict: 3.0\n",
      "      Else (feature 3 > 0.1259458845)\n",
      "       Predict: 0.0\n",
      "     Else (feature 3 > 0.19523883)\n",
      "      If (feature 0 <= 16.55)\n",
      "       Predict: 0.0\n",
      "      Else (feature 0 > 16.55)\n",
      "       Predict: 3.0\n",
      "    Else (feature 4 > 0.101533381)\n",
      "     If (feature 0 <= 233.60000000000002)\n",
      "      Predict: 3.0\n",
      "     Else (feature 0 > 233.60000000000002)\n",
      "      If (feature 1 <= 68.583494505)\n",
      "       Predict: 0.0\n",
      "      Else (feature 1 > 68.583494505)\n",
      "       Predict: 3.0\n",
      "   Else (feature 3 > 1.9197625774999998)\n",
      "    Predict: 3.0\n",
      "  Else (feature 4 > 1.7334023606120588)\n",
      "   If (feature 4 <= 1.7724134186120588)\n",
      "    If (feature 5 <= 64.50996456)\n",
      "     If (feature 5 <= 8.05)\n",
      "      Predict: 2.0\n",
      "     Else (feature 5 > 8.05)\n",
      "      If (feature 0 <= 181.75)\n",
      "       Predict: 2.0\n",
      "      Else (feature 0 > 181.75)\n",
      "       Predict: 1.0\n",
      "    Else (feature 5 > 64.50996456)\n",
      "     If (feature 5 <= 90.342463705)\n",
      "      Predict: 1.0\n",
      "     Else (feature 5 > 90.342463705)\n",
      "      If (feature 0 <= 233.60000000000002)\n",
      "       Predict: 1.0\n",
      "      Else (feature 0 > 233.60000000000002)\n",
      "       Predict: 2.0\n",
      "   Else (feature 4 > 1.7724134186120588)\n",
      "    If (feature 2 <= 0.040472011)\n",
      "     If (feature 3 <= 53.45932764)\n",
      "      Predict: 0.0\n",
      "     Else (feature 3 > 53.45932764)\n",
      "      If (feature 0 <= 7.4)\n",
      "       Predict: 0.0\n",
      "      Else (feature 0 > 7.4)\n",
      "       Predict: 3.0\n",
      "    Else (feature 2 > 0.040472011)\n",
      "     If (feature 4 <= 2.431966046)\n",
      "      If (feature 3 <= 1.9197625774999998)\n",
      "       Predict: 0.0\n",
      "      Else (feature 3 > 1.9197625774999998)\n",
      "       Predict: 3.0\n",
      "     Else (feature 4 > 2.431966046)\n",
      "      Predict: 3.0\n",
      "\n"
     ]
    }
   ],
   "source": [
    "print(model.toDebugString)"
   ]
  },
  {
   "cell_type": "code",
   "execution_count": 46,
   "metadata": {},
   "outputs": [],
   "source": [
    "from pyspark.ml.classification import RandomForestClassifier\n",
    "#Dùng để tính toán và xây dựng mô hình rừng ngẫu nhiên"
   ]
  },
  {
   "cell_type": "code",
   "execution_count": 47,
   "metadata": {},
   "outputs": [],
   "source": [
    "rf = RandomForestClassifier(labelCol=\"label\", featuresCol=\"features\", numTrees=20)"
   ]
  },
  {
   "cell_type": "code",
   "execution_count": 48,
   "metadata": {},
   "outputs": [],
   "source": [
    "model = rf.fit(trainingData)"
   ]
  },
  {
   "cell_type": "code",
   "execution_count": 49,
   "metadata": {},
   "outputs": [],
   "source": [
    "predictions = model.transform(testData)"
   ]
  },
  {
   "cell_type": "code",
   "execution_count": 50,
   "metadata": {},
   "outputs": [
    {
     "name": "stdout",
     "output_type": "stream",
     "text": [
      "+----------+-----+\n",
      "|prediction|label|\n",
      "+----------+-----+\n",
      "|       2.0|    2|\n",
      "|       3.0|    3|\n",
      "|       3.0|    3|\n",
      "|       3.0|    3|\n",
      "|       3.0|    3|\n",
      "|       1.0|    1|\n",
      "|       1.0|    1|\n",
      "|       1.0|    1|\n",
      "|       1.0|    1|\n",
      "|       1.0|    2|\n",
      "|       3.0|    0|\n",
      "|       3.0|    0|\n",
      "|       3.0|    3|\n",
      "|       3.0|    0|\n",
      "|       3.0|    0|\n",
      "|       0.0|    3|\n",
      "|       3.0|    0|\n",
      "|       3.0|    3|\n",
      "|       3.0|    3|\n",
      "|       3.0|    3|\n",
      "+----------+-----+\n",
      "only showing top 20 rows\n",
      "\n"
     ]
    }
   ],
   "source": [
    "predictions.select('prediction', 'label').show()"
   ]
  },
  {
   "cell_type": "code",
   "execution_count": 51,
   "metadata": {},
   "outputs": [],
   "source": [
    "evaluator = MulticlassClassificationEvaluator(\n",
    "    labelCol=\"label\", predictionCol=\"prediction\", metricName=\"accuracy\")\n",
    "accuracy1 = evaluator.evaluate(predictions)"
   ]
  },
  {
   "cell_type": "code",
   "execution_count": 52,
   "metadata": {},
   "outputs": [
    {
     "data": {
      "text/plain": [
       "0.6770428015564203"
      ]
     },
     "execution_count": 52,
     "metadata": {},
     "output_type": "execute_result"
    }
   ],
   "source": [
    "accuracy1"
   ]
  },
  {
   "cell_type": "code",
   "execution_count": 53,
   "metadata": {},
   "outputs": [],
   "source": [
    "evaluator = MulticlassClassificationEvaluator(\n",
    "    labelCol=\"label\", predictionCol=\"prediction\", metricName=\"f1\")\n",
    "f1_1 = evaluator.evaluate(predictions)"
   ]
  },
  {
   "cell_type": "code",
   "execution_count": 54,
   "metadata": {},
   "outputs": [
    {
     "data": {
      "text/plain": [
       "0.600654935966123"
      ]
     },
     "execution_count": 54,
     "metadata": {},
     "output_type": "execute_result"
    }
   ],
   "source": [
    "f1_1"
   ]
  },
  {
   "cell_type": "code",
   "execution_count": 55,
   "metadata": {},
   "outputs": [
    {
     "name": "stdout",
     "output_type": "stream",
     "text": [
      "RandomForestClassificationModel (uid=RandomForestClassifier_a216485868bb) with 20 trees\n"
     ]
    }
   ],
   "source": [
    "print(model)"
   ]
  },
  {
   "cell_type": "code",
   "execution_count": 56,
   "metadata": {},
   "outputs": [],
   "source": [
    "from pyspark.ml.classification import NaiveBayes\n",
    "#Dùng để tính toán và kiểm tra độ chính xác của kết quả dự đoán\n",
    "nb = NaiveBayes(labelCol=\"label\",\\\n",
    "featuresCol=\"features\", smoothing=1.0,\\\n",
    "modelType=\"multinomial\")\n",
    "model = nb.fit(trainingData)"
   ]
  },
  {
   "cell_type": "code",
   "execution_count": 57,
   "metadata": {},
   "outputs": [
    {
     "name": "stdout",
     "output_type": "stream",
     "text": [
      "+-----+--------------------+----------+\n",
      "|label|         probability|prediction|\n",
      "+-----+--------------------+----------+\n",
      "|    2|[0.00922814469355...|       2.0|\n",
      "|    3|[0.00748467753067...|       1.0|\n",
      "|    3|[0.00748467753067...|       1.0|\n",
      "|    3|[0.00748467753067...|       1.0|\n",
      "|    3|[0.00748467753067...|       1.0|\n",
      "|    1|[1.10856873017022...|       1.0|\n",
      "|    1|[1.10856873017022...|       1.0|\n",
      "|    1|[1.10856873017022...|       1.0|\n",
      "|    1|[1.10856873017022...|       1.0|\n",
      "|    2|[1.10856873017022...|       1.0|\n",
      "|    0|[0.89153604247168...|       0.0|\n",
      "|    0|[0.89153604247168...|       0.0|\n",
      "|    3|[0.89153604247168...|       0.0|\n",
      "|    0|[0.00750087800264...|       1.0|\n",
      "|    0|[0.00750087800264...|       1.0|\n",
      "|    3|[0.99999999999999...|       0.0|\n",
      "|    0|[0.00753425633829...|       1.0|\n",
      "|    3|[0.00753425633829...|       1.0|\n",
      "|    3|[0.00753425633829...|       1.0|\n",
      "|    3|[0.00753425633829...|       1.0|\n",
      "+-----+--------------------+----------+\n",
      "only showing top 20 rows\n",
      "\n"
     ]
    }
   ],
   "source": [
    "predictions = model.transform(testData)\n",
    "predictions.select(\"label\",\n",
    "\"probability\", \"prediction\").show()"
   ]
  },
  {
   "cell_type": "code",
   "execution_count": 58,
   "metadata": {},
   "outputs": [],
   "source": [
    "evaluator = MulticlassClassificationEvaluator(\n",
    "    labelCol=\"label\", predictionCol=\"prediction\", metricName=\"accuracy\")\n",
    "accuracy2 = evaluator.evaluate(predictions)"
   ]
  },
  {
   "cell_type": "code",
   "execution_count": 59,
   "metadata": {},
   "outputs": [
    {
     "data": {
      "text/plain": [
       "0.42320897230487525"
      ]
     },
     "execution_count": 59,
     "metadata": {},
     "output_type": "execute_result"
    }
   ],
   "source": [
    "accuracy2"
   ]
  },
  {
   "cell_type": "code",
   "execution_count": 60,
   "metadata": {},
   "outputs": [],
   "source": [
    "evaluator = MulticlassClassificationEvaluator(\n",
    "    labelCol=\"label\", predictionCol=\"prediction\", metricName=\"f1\")\n",
    "f1_2 = evaluator.evaluate(predictions)"
   ]
  },
  {
   "cell_type": "code",
   "execution_count": 61,
   "metadata": {},
   "outputs": [
    {
     "data": {
      "text/plain": [
       "0.4057090887139109"
      ]
     },
     "execution_count": 61,
     "metadata": {},
     "output_type": "execute_result"
    }
   ],
   "source": [
    "f1_2"
   ]
  },
  {
   "cell_type": "markdown",
   "metadata": {},
   "source": [
    "# Biểu đồ so sánh độ chính xác của các thuật toán"
   ]
  },
  {
   "cell_type": "code",
   "execution_count": 62,
   "metadata": {},
   "outputs": [
    {
     "data": {
      "text/plain": [
       "<BarContainer object of 3 artists>"
      ]
     },
     "execution_count": 62,
     "metadata": {},
     "output_type": "execute_result"
    },
    {
     "data": {
      "image/png": "[encoded data removed]",
      "text/plain": [
       "<Figure size 432x288 with 1 Axes>"
      ]
     },
     "metadata": {
      "needs_background": "light"
     },
     "output_type": "display_data"
    }
   ],
   "source": [
    "import matplotlib.pyplot as plt\n",
    "plt.subplot()\n",
    "plt.title('Accuracy')\n",
    "names=['Decision Tree', 'Random Forest', 'Naive Bayes']\n",
    "plt.barh(names, [accuracy, accuracy1, accuracy2])"
   ]
  },
  {
   "cell_type": "code",
   "execution_count": 63,
   "metadata": {},
   "outputs": [
    {
     "data": {
      "text/plain": [
       "<BarContainer object of 3 artists>"
      ]
     },
     "execution_count": 63,
     "metadata": {},
     "output_type": "execute_result"
    },
    {
     "data": {
      "image/png": "[encoded data removed]",
      "text/plain": [
       "<Figure size 432x288 with 1 Axes>"
      ]
     },
     "metadata": {
      "needs_background": "light"
     },
     "output_type": "display_data"
    }
   ],
   "source": [
    "plt.subplot()\n",
    "plt.title('F1')\n",
    "names=['Decision Tree', 'Random Forest', 'Naive Bayes']\n",
    "plt.barh(names, [f1, f1_1, f1_2])"
   ]
  }
 ],
 "metadata": {
  "kernelspec": {
   "display_name": "Python 3",
   "language": "python",
   "name": "python3"
  },
  "language_info": {
   "codemirror_mode": {
    "name": "ipython",
    "version": 3
   },
   "file_extension": ".py",
   "mimetype": "text/x-python",
   "name": "python",
   "nbconvert_exporter": "python",
   "pygments_lexer": "ipython3",
   "version": "3.7.5"
  }
 },
 "nbformat": 4,
 "nbformat_minor": 4
}
